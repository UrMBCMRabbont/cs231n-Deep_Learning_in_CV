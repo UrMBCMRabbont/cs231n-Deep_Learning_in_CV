{
 "cells": [
  {
   "cell_type": "markdown",
   "metadata": {},
   "source": [
    "# Softmax exercise\n",
    "\n",
    "*Complete and hand in this completed worksheet (including its outputs and any supporting code outside of the worksheet) with your assignment submission. For more details see the [assignments page](https://course.cse.ust.hk/comp4901j/Password_Only/programs/assignment1/index.html) on the course website.*\n",
    "\n",
    "This exercise is analogous to the SVM exercise. You will:\n",
    "\n",
    "- implement a fully-vectorized **loss function** for the Softmax classifier\n",
    "- implement the fully-vectorized expression for its **analytic gradient**\n",
    "- **check your implementation** with numerical gradient\n",
    "- use a validation set to **tune the learning rate and regularization** strength\n",
    "- **optimize** the loss function with **SGD**\n",
    "- **visualize** the final learned weights\n"
   ]
  },
  {
   "cell_type": "code",
   "execution_count": 144,
   "metadata": {},
   "outputs": [
    {
     "name": "stdout",
     "output_type": "stream",
     "text": [
      "The autoreload extension is already loaded. To reload it, use:\n",
      "  %reload_ext autoreload\n"
     ]
    }
   ],
   "source": [
    "import random\n",
    "import numpy as np\n",
    "from cs231n.data_utils import load_CIFAR10\n",
    "import matplotlib.pyplot as plt\n",
    "\n",
    "from __future__ import print_function\n",
    "\n",
    "%matplotlib inline\n",
    "plt.rcParams['figure.figsize'] = (10.0, 8.0) # set default size of plots\n",
    "plt.rcParams['image.interpolation'] = 'nearest'\n",
    "plt.rcParams['image.cmap'] = 'gray'\n",
    "\n",
    "# for auto-reloading extenrnal modules\n",
    "# see http://stackoverflow.com/questions/1907993/autoreload-of-modules-in-ipython\n",
    "%load_ext autoreload\n",
    "%autoreload 2"
   ]
  },
  {
   "cell_type": "code",
   "execution_count": 145,
   "metadata": {},
   "outputs": [
    {
     "name": "stdout",
     "output_type": "stream",
     "text": [
      "Train data shape:  (49000, 3073)\n",
      "Train labels shape:  (49000,)\n",
      "Validation data shape:  (1000, 3073)\n",
      "Validation labels shape:  (1000,)\n",
      "Test data shape:  (1000, 3073)\n",
      "Test labels shape:  (1000,)\n",
      "dev data shape:  (500, 3073)\n",
      "dev labels shape:  (500,)\n"
     ]
    }
   ],
   "source": [
    "def get_CIFAR10_data(num_training=49000, num_validation=1000, num_test=1000, num_dev=500):\n",
    "    \"\"\"\n",
    "    Load the CIFAR-10 dataset from disk and perform preprocessing to prepare\n",
    "    it for the linear classifier. These are the same steps as we used for the\n",
    "    SVM, but condensed to a single function.  \n",
    "    \"\"\"\n",
    "    # Load the raw CIFAR-10 data\n",
    "    cifar10_dir = 'cs231n/datasets/cifar-10-batches-py'\n",
    "    X_train, y_train, X_test, y_test = load_CIFAR10(cifar10_dir)\n",
    "    \n",
    "    # subsample the data\n",
    "    mask = list(range(num_training, num_training + num_validation))\n",
    "    X_val = X_train[mask]\n",
    "    y_val = y_train[mask]\n",
    "    mask = list(range(num_training))\n",
    "    X_train = X_train[mask]\n",
    "    y_train = y_train[mask]\n",
    "    mask = list(range(num_test))\n",
    "    X_test = X_test[mask]\n",
    "    y_test = y_test[mask]\n",
    "    mask = np.random.choice(num_training, num_dev, replace=False)\n",
    "    X_dev = X_train[mask]\n",
    "    y_dev = y_train[mask]\n",
    "    \n",
    "    # Preprocessing: reshape the image data into rows\n",
    "    X_train = np.reshape(X_train, (X_train.shape[0], -1))\n",
    "    X_val = np.reshape(X_val, (X_val.shape[0], -1))\n",
    "    X_test = np.reshape(X_test, (X_test.shape[0], -1))\n",
    "    X_dev = np.reshape(X_dev, (X_dev.shape[0], -1))\n",
    "    \n",
    "    # Normalize the data: subtract the mean image\n",
    "    mean_image = np.mean(X_train, axis = 0)\n",
    "    X_train -= mean_image\n",
    "    X_val -= mean_image\n",
    "    X_test -= mean_image\n",
    "    X_dev -= mean_image\n",
    "    \n",
    "    # add bias dimension and transform into columns\n",
    "    X_train = np.hstack([X_train, np.ones((X_train.shape[0], 1))])\n",
    "    X_val = np.hstack([X_val, np.ones((X_val.shape[0], 1))])\n",
    "    X_test = np.hstack([X_test, np.ones((X_test.shape[0], 1))])\n",
    "    X_dev = np.hstack([X_dev, np.ones((X_dev.shape[0], 1))])\n",
    "    \n",
    "    return X_train, y_train, X_val, y_val, X_test, y_test, X_dev, y_dev\n",
    "\n",
    "\n",
    "# Invoke the above function to get our data.\n",
    "X_train, y_train, X_val, y_val, X_test, y_test, X_dev, y_dev = get_CIFAR10_data()\n",
    "print('Train data shape: ', X_train.shape)\n",
    "print('Train labels shape: ', y_train.shape)\n",
    "print('Validation data shape: ', X_val.shape)\n",
    "print('Validation labels shape: ', y_val.shape)\n",
    "print('Test data shape: ', X_test.shape)\n",
    "print('Test labels shape: ', y_test.shape)\n",
    "print('dev data shape: ', X_dev.shape)\n",
    "print('dev labels shape: ', y_dev.shape)"
   ]
  },
  {
   "cell_type": "markdown",
   "metadata": {},
   "source": [
    "## Softmax Classifier\n",
    "\n",
    "Your code for this section will all be written inside **cs231n/classifiers/softmax.py**. \n"
   ]
  },
  {
   "cell_type": "code",
   "execution_count": 146,
   "metadata": {},
   "outputs": [
    {
     "name": "stdout",
     "output_type": "stream",
     "text": [
      "loss: 2.388964\n",
      "sanity check: 2.302585\n"
     ]
    }
   ],
   "source": [
    "# First implement the naive softmax loss function with nested loops.\n",
    "# Open the file cs231n/classifiers/softmax.py and implement the\n",
    "# softmax_loss_naive function.\n",
    "\n",
    "from cs231n.classifiers.softmax import softmax_loss_naive\n",
    "import time\n",
    "\n",
    "# Generate a random softmax weight matrix and use it to compute the loss.\n",
    "W = np.random.randn(3073, 10) * 0.0001\n",
    "loss, grad = softmax_loss_naive(W, X_dev, y_dev, 0.0)\n",
    "\n",
    "# As a rough sanity check, our loss should be something close to -log(0.1).\n",
    "print('loss: %f' % loss)\n",
    "print('sanity check: %f' % (-np.log(0.1)))"
   ]
  },
  {
   "cell_type": "markdown",
   "metadata": {},
   "source": [
    "## Inline Question 1:\n",
    "Why do we expect our loss to be close to -log(0.1)? Explain briefly.**\n",
    "\n",
    "**Your answer:** *Recall that there are 10 classes in CIFAR-10 dataset. If we randomly choose classes at first, the probability of correct class should be around 0.1. To calculate the softmax loss, this gives us -log(0.1).*\n"
   ]
  },
  {
   "cell_type": "code",
   "execution_count": 147,
   "metadata": {},
   "outputs": [
    {
     "name": "stdout",
     "output_type": "stream",
     "text": [
      "numerical: 1.774135 analytic: 1.774134, relative error: 3.055390e-08\n",
      "numerical: -1.542066 analytic: -1.542066, relative error: 2.523000e-09\n",
      "numerical: -0.446151 analytic: -0.446151, relative error: 9.029225e-08\n",
      "numerical: 2.394120 analytic: 2.394120, relative error: 4.269894e-08\n",
      "numerical: -2.508733 analytic: -2.508733, relative error: 8.621767e-09\n",
      "numerical: -1.371395 analytic: -1.371395, relative error: 1.360985e-08\n",
      "numerical: -0.833701 analytic: -0.833701, relative error: 3.625263e-08\n",
      "numerical: 0.402354 analytic: 0.402354, relative error: 2.356414e-08\n",
      "numerical: 0.755349 analytic: 0.755349, relative error: 1.977198e-08\n",
      "numerical: 1.783474 analytic: 1.783474, relative error: 3.285874e-08\n",
      "numerical: -4.700946 analytic: -4.693929, relative error: 7.469345e-04\n",
      "numerical: 2.468310 analytic: 2.478558, relative error: 2.071545e-03\n",
      "numerical: -0.600081 analytic: -0.590489, relative error: 8.055930e-03\n",
      "numerical: 0.891607 analytic: 0.899047, relative error: 4.155181e-03\n",
      "numerical: 1.543296 analytic: 1.559582, relative error: 5.248706e-03\n",
      "numerical: 0.710383 analytic: 0.707526, relative error: 2.015317e-03\n",
      "numerical: -1.261418 analytic: -1.261774, relative error: 1.409665e-04\n",
      "numerical: 1.961779 analytic: 1.966457, relative error: 1.190825e-03\n",
      "numerical: -4.596348 analytic: -4.605168, relative error: 9.585894e-04\n",
      "numerical: 0.608880 analytic: 0.608992, relative error: 9.145430e-05\n"
     ]
    }
   ],
   "source": [
    "# Complete the implementation of softmax_loss_naive and implement a (naive)\n",
    "# version of the gradient that uses nested loops.\n",
    "loss, grad = softmax_loss_naive(W, X_dev, y_dev, 0.0)\n",
    "\n",
    "# As we did for the SVM, use numeric gradient checking as a debugging tool.\n",
    "# The numeric gradient should be close to the analytic gradient.\n",
    "from cs231n.gradient_check import grad_check_sparse\n",
    "f = lambda w: softmax_loss_naive(w, X_dev, y_dev, 0.0)[0]\n",
    "grad_numerical = grad_check_sparse(f, W, grad, 10)\n",
    "\n",
    "# similar to SVM case, do another gradient check with regularization\n",
    "loss, grad = softmax_loss_naive(W, X_dev, y_dev, 5e1)\n",
    "f = lambda w: softmax_loss_naive(w, X_dev, y_dev, 5e1)[0]\n",
    "grad_numerical = grad_check_sparse(f, W, grad, 10)"
   ]
  },
  {
   "cell_type": "code",
   "execution_count": 148,
   "metadata": {},
   "outputs": [
    {
     "name": "stdout",
     "output_type": "stream",
     "text": [
      "naive loss: 2.388964e+00 computed in 0.276895s\n",
      "vectorized loss: 2.388964e+00 computed in 0.019522s\n",
      "Loss difference: 0.000000\n",
      "Gradient difference: 0.000000\n"
     ]
    }
   ],
   "source": [
    "# Now that we have a naive implementation of the softmax loss function and its gradient,\n",
    "# implement a vectorized version in softmax_loss_vectorized.\n",
    "# The two versions should compute the same results, but the vectorized version should be\n",
    "# much faster.\n",
    "tic = time.time()\n",
    "loss_naive, grad_naive = softmax_loss_naive(W, X_dev, y_dev, 0.000005)\n",
    "toc = time.time()\n",
    "print('naive loss: %e computed in %fs' % (loss_naive, toc - tic))\n",
    "\n",
    "from cs231n.classifiers.softmax import softmax_loss_vectorized\n",
    "tic = time.time()\n",
    "loss_vectorized, grad_vectorized = softmax_loss_vectorized(W, X_dev, y_dev, 0.000005)\n",
    "toc = time.time()\n",
    "print('vectorized loss: %e computed in %fs' % (loss_vectorized, toc - tic))\n",
    "\n",
    "# As we did for the SVM, we use the Frobenius norm to compare the two versions\n",
    "# of the gradient.\n",
    "grad_difference = np.linalg.norm(grad_naive - grad_vectorized, ord='fro')\n",
    "print('Loss difference: %f' % np.abs(loss_naive - loss_vectorized))\n",
    "print('Gradient difference: %f' % grad_difference)"
   ]
  },
  {
   "cell_type": "code",
   "execution_count": 149,
   "metadata": {},
   "outputs": [
    {
     "name": "stdout",
     "output_type": "stream",
     "text": [
      "iteration 0 / 1500: loss 616.161827\n",
      "iteration 100 / 1500: loss 410.754299\n",
      "iteration 200 / 1500: loss 275.045037\n",
      "iteration 300 / 1500: loss 184.602458\n",
      "iteration 400 / 1500: loss 124.140664\n",
      "iteration 500 / 1500: loss 83.642276\n",
      "iteration 600 / 1500: loss 56.674208\n",
      "iteration 700 / 1500: loss 38.644871\n",
      "iteration 800 / 1500: loss 26.594665\n",
      "iteration 900 / 1500: loss 18.448922\n",
      "iteration 1000 / 1500: loss 13.025192\n",
      "iteration 1100 / 1500: loss 9.318082\n",
      "iteration 1200 / 1500: loss 6.968885\n",
      "iteration 1300 / 1500: loss 5.393146\n",
      "iteration 1400 / 1500: loss 4.319922\n",
      "temp acc0.3529795918367347, best acc0.3529795918367347\n",
      "iteration 0 / 1500: loss 942.568469\n",
      "iteration 100 / 1500: loss 515.100837\n",
      "iteration 200 / 1500: loss 282.372175\n",
      "iteration 300 / 1500: loss 155.506751\n",
      "iteration 400 / 1500: loss 85.989390\n",
      "iteration 500 / 1500: loss 47.928473\n",
      "iteration 600 / 1500: loss 27.303509\n",
      "iteration 700 / 1500: loss 15.848492\n",
      "iteration 800 / 1500: loss 9.740825\n",
      "iteration 900 / 1500: loss 6.269548\n",
      "iteration 1000 / 1500: loss 4.413553\n",
      "iteration 1100 / 1500: loss 3.388725\n",
      "iteration 1200 / 1500: loss 2.818729\n",
      "iteration 1300 / 1500: loss 2.484043\n",
      "iteration 1400 / 1500: loss 2.273833\n",
      "temp acc0.3485918367346939, best acc0.3529795918367347\n",
      "iteration 0 / 1500: loss 624.147694\n",
      "iteration 100 / 1500: loss 84.325263\n",
      "iteration 200 / 1500: loss 13.031704\n",
      "iteration 300 / 1500: loss 3.526630\n",
      "iteration 400 / 1500: loss 2.258906\n",
      "iteration 500 / 1500: loss 2.112609\n",
      "iteration 600 / 1500: loss 2.102130\n",
      "iteration 700 / 1500: loss 2.104818\n",
      "iteration 800 / 1500: loss 2.092916\n",
      "iteration 900 / 1500: loss 2.071891\n",
      "iteration 1000 / 1500: loss 2.111537\n",
      "iteration 1100 / 1500: loss 2.091860\n",
      "iteration 1200 / 1500: loss 2.086313\n",
      "iteration 1300 / 1500: loss 2.085847\n",
      "iteration 1400 / 1500: loss 2.140050\n",
      "temp acc0.358265306122449, best acc0.358265306122449\n",
      "iteration 0 / 1500: loss 942.794540\n",
      "iteration 100 / 1500: loss 47.353624\n",
      "iteration 200 / 1500: loss 4.383871\n",
      "iteration 300 / 1500: loss 2.248973\n",
      "iteration 400 / 1500: loss 2.087197\n",
      "iteration 500 / 1500: loss 2.171136\n",
      "iteration 600 / 1500: loss 2.160723\n",
      "iteration 700 / 1500: loss 2.141332\n",
      "iteration 800 / 1500: loss 2.195202\n",
      "iteration 900 / 1500: loss 2.010863\n",
      "iteration 1000 / 1500: loss 2.107310\n",
      "iteration 1100 / 1500: loss 2.142320\n",
      "iteration 1200 / 1500: loss 2.146999\n",
      "iteration 1300 / 1500: loss 2.164031\n",
      "iteration 1400 / 1500: loss 2.119845\n",
      "temp acc0.33924489795918367, best acc0.358265306122449\n",
      "lr 1.000000e-07 reg 1.000000e+04 train accuracy: 0.352980 val accuracy: 0.352980\n",
      "lr 1.000000e-07 reg 1.500000e+04 train accuracy: 0.348592 val accuracy: 0.352980\n",
      "lr 5.000000e-07 reg 1.000000e+04 train accuracy: 0.358265 val accuracy: 0.358265\n",
      "lr 5.000000e-07 reg 1.500000e+04 train accuracy: 0.339245 val accuracy: 0.358265\n",
      "best validation accuracy achieved during cross-validation: 0.358265\n"
     ]
    }
   ],
   "source": [
    "# Use the validation set to tune hyperparameters (regularization strength and\n",
    "# learning rate). You should experiment with different ranges for the learning\n",
    "# rates and regularization strengths; if you are careful you should be able to\n",
    "# get a classification accuracy of over 0.35 on the validation set.\n",
    "from cs231n.classifiers import Softmax\n",
    "results = {}\n",
    "best_val = -1\n",
    "best_softmax = None\n",
    "learning_rates = [1e-7, 5e-7]\n",
    "regularization_strengths = [1e4, 1.5e4]\n",
    "\n",
    "################################################################################\n",
    "# TODO:                                                                        #\n",
    "# Use the validation set to set the learning rate and regularization strength. #\n",
    "# This should be identical to the validation that you did for the SVM; save    #\n",
    "# the best trained softmax classifer in best_softmax.                          #\n",
    "################################################################################\n",
    "def accuracy(label, pred):\n",
    "    return np.mean(label == pred)\n",
    "\n",
    "for lr in learning_rates:\n",
    "    for reg in regularization_strengths:\n",
    "        softmax = Softmax()\n",
    "        lost_hist = []\n",
    "        lost_hist = softmax.train(X_train, y_train, learning_rate=lr, reg=reg, \n",
    "                   num_iters=1500, verbose=True)\n",
    "\n",
    "        temp_val = accuracy(y_train, softmax.predict(X_train))\n",
    "        if(temp_val > best_val):\n",
    "            best_val = temp_val\n",
    "            best_softmax = softmax\n",
    "        results[(lr, reg)] = (temp_val, best_val)\n",
    "        print('temp acc{}, best acc{}'.format(temp_val, best_val))        \n",
    "################################################################################\n",
    "#                              END OF YOUR CODE                                #\n",
    "################################################################################\n",
    "    \n",
    "# Print out results.\n",
    "for lr, reg in sorted(results):\n",
    "    train_accuracy, val_accuracy = results[(lr, reg)]\n",
    "    print('lr %e reg %e train accuracy: %f val accuracy: %f' % (\n",
    "                lr, reg, train_accuracy, val_accuracy))\n",
    "    \n",
    "print('best validation accuracy achieved during cross-validation: %f' % best_val)"
   ]
  },
  {
   "cell_type": "code",
   "execution_count": 150,
   "metadata": {},
   "outputs": [
    {
     "name": "stdout",
     "output_type": "stream",
     "text": [
      "softmax on raw pixels final test set accuracy: 0.362000\n"
     ]
    }
   ],
   "source": [
    "# evaluate on test set\n",
    "# Evaluate the best softmax on test set\n",
    "y_test_pred = best_softmax.predict(X_test)\n",
    "test_accuracy = np.mean(y_test == y_test_pred)\n",
    "print('softmax on raw pixels final test set accuracy: %f' % (test_accuracy, ))"
   ]
  },
  {
   "cell_type": "code",
   "execution_count": 151,
   "metadata": {},
   "outputs": [
    {
     "data": {
      "image/png": "[encoded data removed]",
      "text/plain": [
       "<Figure size 720x576 with 10 Axes>"
      ]
     },
     "metadata": {
      "needs_background": "light"
     },
     "output_type": "display_data"
    }
   ],
   "source": [
    "# Visualize the learned weights for each class\n",
    "w = best_softmax.W[:-1,:] # strip out the bias\n",
    "w = w.reshape(32, 32, 3, 10)\n",
    "\n",
    "w_min, w_max = np.min(w), np.max(w)\n",
    "\n",
    "classes = ['plane', 'car', 'bird', 'cat', 'deer', 'dog', 'frog', 'horse', 'ship', 'truck']\n",
    "for i in range(10):\n",
    "    plt.subplot(2, 5, i + 1)\n",
    "    \n",
    "    # Rescale the weights to be between 0 and 255\n",
    "    wimg = 255.0 * (w[:, :, :, i].squeeze() - w_min) / (w_max - w_min)\n",
    "    plt.imshow(wimg.astype('uint8'))\n",
    "    plt.axis('off')\n",
    "    plt.title(classes[i])"
   ]
  }
 ],
 "metadata": {
  "kernelspec": {
   "display_name": "Python 3",
   "language": "python",
   "name": "python3"
  },
  "language_info": {
   "codemirror_mode": {
    "name": "ipython",
    "version": 3
   },
   "file_extension": ".py",
   "mimetype": "text/x-python",
   "name": "python",
   "nbconvert_exporter": "python",
   "pygments_lexer": "ipython3",
   "version": "3.8.5"
  }
 },
 "nbformat": 4,
 "nbformat_minor": 1
}
